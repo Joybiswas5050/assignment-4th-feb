{
 "cells": [
  {
   "cell_type": "code",
   "execution_count": 1,
   "id": "ca389766-3abd-43cd-98ea-7aa6541183bd",
   "metadata": {},
   "outputs": [
    {
     "ename": "IndexError",
     "evalue": "tuple index out of range",
     "output_type": "error",
     "traceback": [
      "\u001b[0;31m---------------------------------------------------------------------------\u001b[0m",
      "\u001b[0;31mIndexError\u001b[0m                                Traceback (most recent call last)",
      "Cell \u001b[0;32mIn[1], line 3\u001b[0m\n\u001b[1;32m      1\u001b[0m lst \u001b[38;5;241m=\u001b[39m [(\u001b[38;5;124m'\u001b[39m\u001b[38;5;124msachin tendulkar\u001b[39m\u001b[38;5;124m'\u001b[39m, \u001b[38;5;241m34357\u001b[39m),(\u001b[38;5;124m'\u001b[39m\u001b[38;5;124mrickey ponting\u001b[39m\u001b[38;5;124m'\u001b[39m,\u001b[38;5;241m27483\u001b[39m),(\u001b[38;5;124m'\u001b[39m\u001b[38;5;124mjack kallis 25534\u001b[39m\u001b[38;5;124m'\u001b[39m,), (\u001b[38;5;124m'\u001b[39m\u001b[38;5;124mvirat kohli\u001b[39m\u001b[38;5;124m'\u001b[39m,\u001b[38;5;241m24936\u001b[39m)]\n\u001b[0;32m----> 3\u001b[0m sorted_lst \u001b[38;5;241m=\u001b[39m \u001b[38;5;28;43msorted\u001b[39;49m\u001b[43m(\u001b[49m\u001b[43mlst\u001b[49m\u001b[43m,\u001b[49m\u001b[43m \u001b[49m\u001b[43mkey\u001b[49m\u001b[38;5;241;43m=\u001b[39;49m\u001b[38;5;28;43;01mlambda\u001b[39;49;00m\u001b[43m \u001b[49m\u001b[43mx\u001b[49m\u001b[43m:\u001b[49m\u001b[43m \u001b[49m\u001b[43mx\u001b[49m\u001b[43m[\u001b[49m\u001b[38;5;241;43m1\u001b[39;49m\u001b[43m]\u001b[49m\u001b[43m,\u001b[49m\u001b[43m \u001b[49m\u001b[43mreverse\u001b[49m\u001b[38;5;241;43m=\u001b[39;49m\u001b[38;5;28;43;01mTrue\u001b[39;49;00m\u001b[43m)\u001b[49m\n\u001b[1;32m      5\u001b[0m \u001b[38;5;28mprint\u001b[39m(sorted_lst)\n",
      "Cell \u001b[0;32mIn[1], line 3\u001b[0m, in \u001b[0;36m<lambda>\u001b[0;34m(x)\u001b[0m\n\u001b[1;32m      1\u001b[0m lst \u001b[38;5;241m=\u001b[39m [(\u001b[38;5;124m'\u001b[39m\u001b[38;5;124msachin tendulkar\u001b[39m\u001b[38;5;124m'\u001b[39m, \u001b[38;5;241m34357\u001b[39m),(\u001b[38;5;124m'\u001b[39m\u001b[38;5;124mrickey ponting\u001b[39m\u001b[38;5;124m'\u001b[39m,\u001b[38;5;241m27483\u001b[39m),(\u001b[38;5;124m'\u001b[39m\u001b[38;5;124mjack kallis 25534\u001b[39m\u001b[38;5;124m'\u001b[39m,), (\u001b[38;5;124m'\u001b[39m\u001b[38;5;124mvirat kohli\u001b[39m\u001b[38;5;124m'\u001b[39m,\u001b[38;5;241m24936\u001b[39m)]\n\u001b[0;32m----> 3\u001b[0m sorted_lst \u001b[38;5;241m=\u001b[39m \u001b[38;5;28msorted\u001b[39m(lst, key\u001b[38;5;241m=\u001b[39m\u001b[38;5;28;01mlambda\u001b[39;00m x: \u001b[43mx\u001b[49m\u001b[43m[\u001b[49m\u001b[38;5;241;43m1\u001b[39;49m\u001b[43m]\u001b[49m, reverse\u001b[38;5;241m=\u001b[39m\u001b[38;5;28;01mTrue\u001b[39;00m)\n\u001b[1;32m      5\u001b[0m \u001b[38;5;28mprint\u001b[39m(sorted_lst)\n",
      "\u001b[0;31mIndexError\u001b[0m: tuple index out of range"
     ]
    }
   ],
   "source": [
    "lst = [('sachin tendulkar', 34357),('rickey ponting',27483),('jack kallis 25534',), ('virat kohli',24936)]\n",
    "\n",
    "sorted_lst = sorted(lst, key=lambda x: x[1], reverse=True)\n",
    "\n",
    "print(sorted_lst)\n"
   ]
  },
  {
   "cell_type": "code",
   "execution_count": 2,
   "id": "ecec528c-b28a-474c-a4b0-732fa2607dbe",
   "metadata": {},
   "outputs": [],
   "source": [
    "###question no 2"
   ]
  },
  {
   "cell_type": "code",
   "execution_count": 4,
   "id": "5f04b8cd-ea9e-4e39-bc6f-b6eda441ddcf",
   "metadata": {},
   "outputs": [
    {
     "name": "stdout",
     "output_type": "stream",
     "text": [
      "[1, 4, 9, 16, 25, 36, 49, 64, 81, 100]\n"
     ]
    }
   ],
   "source": [
    "numbers = [1, 2, 3, 4, 5, 6, 7, 8, 9, 10]\n",
    "squares = list(map(lambda x: x**2, numbers))\n",
    "print(squares)\n"
   ]
  },
  {
   "cell_type": "code",
   "execution_count": 5,
   "id": "7d901dd6-fb4b-4a16-af9b-959c90caf8f2",
   "metadata": {},
   "outputs": [],
   "source": [
    "###questions no 3"
   ]
  },
  {
   "cell_type": "code",
   "execution_count": 6,
   "id": "de27d189-d04c-4198-810f-e757823bef7a",
   "metadata": {},
   "outputs": [
    {
     "name": "stdout",
     "output_type": "stream",
     "text": [
      "('1', '2', '3', '4', '5', '6', '7', '8', '9', '10')\n"
     ]
    }
   ],
   "source": [
    "int_list = [1, 2, 3, 4, 5, 6, 7, 8, 9, 10]\n",
    "str_tuple = tuple(map(lambda x: str(x), int_list))\n",
    "print(str_tuple)\n"
   ]
  },
  {
   "cell_type": "code",
   "execution_count": 7,
   "id": "75d7d186-ec32-40db-ab59-267d7dc783a7",
   "metadata": {},
   "outputs": [
    {
     "name": "stdout",
     "output_type": "stream",
     "text": [
      "The product of the numbers from 1 to 25 is: 15511210043330985984000000\n"
     ]
    }
   ],
   "source": [
    "from functools import reduce\n",
    "\n",
    "# create a list of numbers from 1 to 25\n",
    "numbers = list(range(1, 26))\n",
    "\n",
    "# use reduce() to compute the product of the numbers in the list\n",
    "product = reduce(lambda x, y: x * y, numbers)\n",
    "\n",
    "print(\"The product of the numbers from 1 to 25 is:\", product)\n"
   ]
  },
  {
   "cell_type": "code",
   "execution_count": 8,
   "id": "6feed720-eb6d-410a-baeb-ece1cad1343e",
   "metadata": {},
   "outputs": [],
   "source": [
    "###question no 5"
   ]
  },
  {
   "cell_type": "code",
   "execution_count": 10,
   "id": "39efdf44-070f-4b1e-88cf-8770162fdf4d",
   "metadata": {},
   "outputs": [
    {
     "name": "stdout",
     "output_type": "stream",
     "text": [
      "[6, 60, 90, 120]\n"
     ]
    }
   ],
   "source": [
    "numbers = [2, 3, 6, 9, 27, 60, 90, 120, 55, 46]\n",
    "divisible_by_2_and_3 = list(filter(lambda x: x % 2 == 0 and x % 3 == 0, numbers))\n",
    "print(divisible_by_2_and_3)\n"
   ]
  },
  {
   "cell_type": "code",
   "execution_count": 11,
   "id": "8643385f-9057-40e2-9fa5-969999213342",
   "metadata": {},
   "outputs": [],
   "source": [
    "###question no 6"
   ]
  },
  {
   "cell_type": "code",
   "execution_count": null,
   "id": "9ccfa351-d646-47e8-8e0b-ed1a9f4ca2e1",
   "metadata": {},
   "outputs": [],
   "source": []
  }
 ],
 "metadata": {
  "kernelspec": {
   "display_name": "Python 3 (ipykernel)",
   "language": "python",
   "name": "python3"
  },
  "language_info": {
   "codemirror_mode": {
    "name": "ipython",
    "version": 3
   },
   "file_extension": ".py",
   "mimetype": "text/x-python",
   "name": "python",
   "nbconvert_exporter": "python",
   "pygments_lexer": "ipython3",
   "version": "3.10.8"
  }
 },
 "nbformat": 4,
 "nbformat_minor": 5
}
